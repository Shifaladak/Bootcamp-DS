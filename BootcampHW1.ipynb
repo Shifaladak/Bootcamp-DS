{
 "cells": [
  {
   "cell_type": "code",
   "execution_count": 11,
   "id": "83c6ad97-efcd-4816-8d21-26ea54822502",
   "metadata": {},
   "outputs": [
    {
     "name": "stdout",
     "output_type": "stream",
     "text": [
      "Fibonacci Series up to 10 terms:\n",
      "0 1 1 2 3 5 8 13 21 34 "
     ]
    }
   ],
   "source": [
    "# Fibonacci series up to 10 terms\n",
    "\n",
    "# Initialize first two terms\n",
    "a, b = 0, 1\n",
    "\n",
    "# Number of terms\n",
    "n = 10\n",
    "\n",
    "# Printing the Fibonacci series\n",
    "print(\"Fibonacci Series up to\", n, \"terms:\")\n",
    "for _ in range(n):\n",
    "    print(a, end=\" \")\n",
    "    a, b = b, a + b  # Update values\n",
    "\n"
   ]
  },
  {
   "cell_type": "code",
   "execution_count": 12,
   "id": "3b966ec3-5e53-4660-8580-a47547df7f1c",
   "metadata": {},
   "outputs": [
    {
     "name": "stdout",
     "output_type": "stream",
     "text": [
      "Numbers at odd indices:\n",
      "20 40 60 80 100 "
     ]
    }
   ],
   "source": [
    "# Sample list\n",
    "numbers = [10, 20, 30, 40, 50, 60, 70, 80, 90, 100]\n",
    "\n",
    "# Print numbers at odd indices\n",
    "print(\"Numbers at odd indices:\")\n",
    "for i in range(1, len(numbers), 2):  # Start from index 1, step by 2\n",
    "    print(numbers[i], end=\" \")\n"
   ]
  },
  {
   "cell_type": "code",
   "execution_count": 13,
   "id": "3537fe54-908d-44a4-aed8-0680fdab738e",
   "metadata": {},
   "outputs": [
    {
     "name": "stdout",
     "output_type": "stream",
     "text": [
      "Number of different words: 47\n"
     ]
    }
   ],
   "source": [
    "text = \"\"\"\n",
    "I have provided this text to provide tips on creating interesting paragraphs.\n",
    "\n",
    "First, start with a clear topic sentence that introduces the main idea.\n",
    "\n",
    "Then, support the topic sentence with specific details, examples, and evidence.\n",
    "\n",
    "Vary the sentence length and structure to keep the reader engaged.\n",
    "\n",
    "Finally, end with a strong concluding sentence that summarizes the main points.\n",
    "\n",
    "Remember, practice makes perfect!\n",
    "\"\"\"\n",
    "\n",
    "# Remove punctuation\n",
    "text = text.replace(\".\", \"\").replace(\",\", \"\").replace(\"!\", \"\").lower()\n",
    "\n",
    "# Split the text into words\n",
    "words = text.split()\n",
    "\n",
    "# Count unique words\n",
    "unique_words = set(words)\n",
    "\n",
    "# Print the result\n",
    "print(\"Number of different words:\", len(unique_words))\n"
   ]
  },
  {
   "cell_type": "code",
   "execution_count": 14,
   "id": "e206c0bb-c57f-43cc-b12d-01e8a21f9c41",
   "metadata": {},
   "outputs": [
    {
     "name": "stdout",
     "output_type": "stream",
     "text": [
      "Number of vowels: 3\n"
     ]
    }
   ],
   "source": [
    "def count_vowels(word):\n",
    "    vowels = \"aeiouAEIOU\"  # List of vowels\n",
    "    count = 0  # Initialize count\n",
    "    \n",
    "    for letter in word:  # Loop through each letter\n",
    "        if letter in vowels:  # Check if it's a vowel\n",
    "            count += 1  # Increase count\n",
    "    \n",
    "    return count  # Return the final count\n",
    "\n",
    "# Accept input from the user\n",
    "user_word = input(\"Enter a word: \")  # Takes user input\n",
    "vowel_count = count_vowels(user_word)  # Call function\n",
    "\n",
    "# Print the result\n",
    "print(\"Number of vowels:\", vowel_count)\n",
    "\n"
   ]
  },
  {
   "cell_type": "code",
   "execution_count": 15,
   "id": "e13a899f",
   "metadata": {},
   "outputs": [
    {
     "name": "stdout",
     "output_type": "stream",
     "text": [
      "TIGER\n",
      "ELEPHANT\n",
      "MONKEY\n",
      "ZEBRA\n",
      "PANTHER\n"
     ]
    }
   ],
   "source": [
    "\n",
    "animals = ['tiger', 'elephant', 'monkey', 'zebra', 'panther']\n",
    "\n",
    "# Loop through each animal and print in uppercase\n",
    "for a in animals:\n",
    "    print(a.upper())  # Convert to uppercase using .upper()"
   ]
  },
  {
   "cell_type": "code",
   "execution_count": 17,
   "id": "d66780ac",
   "metadata": {},
   "outputs": [
    {
     "name": "stdout",
     "output_type": "stream",
     "text": [
      "1 is odd\n",
      "2 is even\n",
      "3 is odd\n",
      "4 is even\n",
      "5 is odd\n",
      "6 is even\n",
      "7 is odd\n",
      "8 is even\n",
      "9 is odd\n",
      "10 is even\n",
      "11 is odd\n",
      "12 is even\n",
      "13 is odd\n",
      "14 is even\n",
      "15 is odd\n",
      "16 is even\n",
      "17 is odd\n",
      "18 is even\n",
      "19 is odd\n",
      "20 is even\n"
     ]
    }
   ],
   "source": [
    "# Loop from 1 to 20\n",
    "for b in range(1, 21):  \n",
    "    if b % 2 == 0:  # Check if the number is even\n",
    "        print(b, \"is even\")\n",
    "    else:\n",
    "        print(b, \"is odd\")\n"
   ]
  },
  {
   "cell_type": "code",
   "execution_count": 18,
   "id": "cd27dac5",
   "metadata": {},
   "outputs": [
    {
     "name": "stdout",
     "output_type": "stream",
     "text": [
      "The sum is: 14\n"
     ]
    }
   ],
   "source": [
    "def sum_of_integers(a, b):\n",
    "    return a + b  # Return the sum of the two numbers\n",
    "\n",
    "# Take input from the user\n",
    "num1 = int(input(\"Enter the first number: \"))  \n",
    "num2 = int(input(\"Enter the second number: \"))\n",
    "\n",
    "# Call the function and print the result\n",
    "result = sum_of_integers(num1, num2)\n",
    "print(\"The sum is:\", result)\n"
   ]
  },
  {
   "cell_type": "code",
   "execution_count": 21,
   "id": "15f83e6c",
   "metadata": {},
   "outputs": [],
   "source": [
    "# Function to check book rating\n",
    "def check_rating(book):\n",
    "    rating = book[\"rating\"]\n",
    "    if rating > 4.5:\n",
    "        return \"high\"\n",
    "    elif rating > 4.0:\n",
    "        return \"medium\"\n",
    "    else:\n",
    "        return \"low\""
   ]
  },
  {
   "cell_type": "code",
   "execution_count": 22,
   "id": "2b0e9d7e",
   "metadata": {},
   "outputs": [],
   "source": [
    "# Function to calculate average rating by genre\n",
    "def average_rating_by_genre(books, genre):\n",
    "    genre_books = [book[\"rating\"] for book in books if book[\"genre\"].lower() == genre.lower()]\n",
    "    \n",
    "    if not genre_books:\n",
    "        return f\"No books found in the genre '{genre}'.\"\n",
    "    \n",
    "    return sum(genre_books) / len(genre_books)"
   ]
  },
  {
   "cell_type": "code",
   "execution_count": 23,
   "id": "38cc0112",
   "metadata": {},
   "outputs": [],
   "source": [
    "# Function to get books by an author\n",
    "def books_by_author(books, author):\n",
    "    author_books = [book[\"title\"] for book in books if book[\"author\"].lower() == author.lower()]\n",
    "    \n",
    "    if not author_books:\n",
    "        raise ValueError(f\"No books found by author '{author}'.\")\n",
    "    \n",
    "    return author_books"
   ]
  }
 ],
 "metadata": {
  "kernelspec": {
   "display_name": "Python 3",
   "language": "python",
   "name": "python3"
  },
  "language_info": {
   "codemirror_mode": {
    "name": "ipython",
    "version": 3
   },
   "file_extension": ".py",
   "mimetype": "text/x-python",
   "name": "python",
   "nbconvert_exporter": "python",
   "pygments_lexer": "ipython3",
   "version": "3.13.0"
  }
 },
 "nbformat": 4,
 "nbformat_minor": 5
}
